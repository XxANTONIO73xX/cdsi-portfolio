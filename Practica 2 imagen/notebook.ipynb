{
 "cells": [
  {
   "cell_type": "markdown",
   "metadata": {},
   "source": [
    "# Práctica 2: Sensado y análisis de video\n",
    "## Detección de puntos de atención visual"
   ]
  },
  {
   "cell_type": "markdown",
   "metadata": {},
   "source": [
    "### Librerias"
   ]
  },
  {
   "cell_type": "code",
   "execution_count": 3,
   "metadata": {},
   "outputs": [],
   "source": [
    "import numpy as np\n",
    "import pandas as pd\n",
    "from matplotlib import pyplot as plt\n",
    "import seaborn as sns\n",
    "import cv2\n",
    "import mediapipe as mp\n",
    "import sys\n",
    "import os\n",
    "import warnings\n",
    "if not sys.warnoptions:\n",
    "    warnings.simplefilter(\"ignore\")\n",
    "warnings.filterwarnings(\"ignore\", category=DeprecationWarning)"
   ]
  },
  {
   "cell_type": "markdown",
   "metadata": {},
   "source": [
    "### Segmentado y preparación de los Datos."
   ]
  },
  {
   "cell_type": "code",
   "execution_count": 18,
   "metadata": {},
   "outputs": [],
   "source": [
    "IMGS = \"./Imagen/\"\n",
    "dir_list = os.listdir(IMGS)\n",
    "dir_list.sort()\n",
    "dfsCsv = []\n",
    "source = []\n",
    "for i in dir_list:\n",
    "    fnames = os.listdir(IMGS + i)\n",
    "    for f in fnames:\n",
    "        if f.endswith(\".csv\"):\n",
    "            dfsCsv.append(pd.read_csv(IMGS + i + f\"/{f}\"))\n",
    "            name = f.replace('csv', 'mp4')\n",
    "            source.append(IMGS + i + f\"/{name}\")"
   ]
  },
  {
   "cell_type": "code",
   "execution_count": 19,
   "metadata": {},
   "outputs": [
    {
     "name": "stdout",
     "output_type": "stream",
     "text": [
      "./Imagen/Scarlett/SCARLETT.mp4\n"
     ]
    },
    {
     "data": {
      "text/html": [
       "<div>\n",
       "<style scoped>\n",
       "    .dataframe tbody tr th:only-of-type {\n",
       "        vertical-align: middle;\n",
       "    }\n",
       "\n",
       "    .dataframe tbody tr th {\n",
       "        vertical-align: top;\n",
       "    }\n",
       "\n",
       "    .dataframe thead th {\n",
       "        text-align: right;\n",
       "    }\n",
       "</style>\n",
       "<table border=\"1\" class=\"dataframe\">\n",
       "  <thead>\n",
       "    <tr style=\"text-align: right;\">\n",
       "      <th></th>\n",
       "      <th>filename</th>\n",
       "      <th>inicio</th>\n",
       "      <th>fin</th>\n",
       "      <th>label</th>\n",
       "    </tr>\n",
       "  </thead>\n",
       "  <tbody>\n",
       "    <tr>\n",
       "      <th>0</th>\n",
       "      <td>SCARLETT.mp4</td>\n",
       "      <td>00:00</td>\n",
       "      <td>00:12</td>\n",
       "      <td>frente</td>\n",
       "    </tr>\n",
       "    <tr>\n",
       "      <th>1</th>\n",
       "      <td>SCARLETT.mp4</td>\n",
       "      <td>00:13</td>\n",
       "      <td>00:24</td>\n",
       "      <td>izquierdo</td>\n",
       "    </tr>\n",
       "    <tr>\n",
       "      <th>2</th>\n",
       "      <td>SCARLETT.mp4</td>\n",
       "      <td>00:25</td>\n",
       "      <td>00:35</td>\n",
       "      <td>central</td>\n",
       "    </tr>\n",
       "    <tr>\n",
       "      <th>3</th>\n",
       "      <td>SCARLETT.mp4</td>\n",
       "      <td>00:37</td>\n",
       "      <td>00:47</td>\n",
       "      <td>derecho</td>\n",
       "    </tr>\n",
       "    <tr>\n",
       "      <th>4</th>\n",
       "      <td>SCARLETT.mp4</td>\n",
       "      <td>00:48</td>\n",
       "      <td>01:00</td>\n",
       "      <td>palanca</td>\n",
       "    </tr>\n",
       "  </tbody>\n",
       "</table>\n",
       "</div>"
      ],
      "text/plain": [
       "       filename inicio    fin      label\n",
       "0  SCARLETT.mp4  00:00  00:12     frente\n",
       "1  SCARLETT.mp4  00:13  00:24  izquierdo\n",
       "2  SCARLETT.mp4  00:25  00:35    central\n",
       "3  SCARLETT.mp4  00:37  00:47    derecho\n",
       "4  SCARLETT.mp4  00:48  01:00    palanca"
      ]
     },
     "execution_count": 19,
     "metadata": {},
     "output_type": "execute_result"
    }
   ],
   "source": [
    "print(source[-1])\n",
    "dfsCsv[-1]"
   ]
  },
  {
   "cell_type": "code",
   "execution_count": 59,
   "metadata": {},
   "outputs": [
    {
     "data": {
      "text/html": [
       "<div>\n",
       "<style scoped>\n",
       "    .dataframe tbody tr th:only-of-type {\n",
       "        vertical-align: middle;\n",
       "    }\n",
       "\n",
       "    .dataframe tbody tr th {\n",
       "        vertical-align: top;\n",
       "    }\n",
       "\n",
       "    .dataframe thead th {\n",
       "        text-align: right;\n",
       "    }\n",
       "</style>\n",
       "<table border=\"1\" class=\"dataframe\">\n",
       "  <thead>\n",
       "    <tr style=\"text-align: right;\">\n",
       "      <th></th>\n",
       "      <th>Unnamed: 0</th>\n",
       "      <th>FRENTE</th>\n",
       "      <th>RETROVISOR</th>\n",
       "      <th>IZQUIERDA</th>\n",
       "      <th>DERECHA</th>\n",
       "      <th>PALANCA</th>\n",
       "    </tr>\n",
       "  </thead>\n",
       "  <tbody>\n",
       "    <tr>\n",
       "      <th>0</th>\n",
       "      <td>0</td>\n",
       "      <td>00:00 - 00:08</td>\n",
       "      <td>00:24-00:28</td>\n",
       "      <td>00:09- 00:13</td>\n",
       "      <td>00:17-00:21</td>\n",
       "      <td>00:37-00:43</td>\n",
       "    </tr>\n",
       "    <tr>\n",
       "      <th>1</th>\n",
       "      <td>1</td>\n",
       "      <td>00:14-00:16</td>\n",
       "      <td>0058-00:60</td>\n",
       "      <td>00:45-00:48</td>\n",
       "      <td>00:51-00:56</td>\n",
       "      <td>NaN</td>\n",
       "    </tr>\n",
       "    <tr>\n",
       "      <th>2</th>\n",
       "      <td>2</td>\n",
       "      <td>00:22-00:23</td>\n",
       "      <td>NaN</td>\n",
       "      <td>NaN</td>\n",
       "      <td>NaN</td>\n",
       "      <td>NaN</td>\n",
       "    </tr>\n",
       "    <tr>\n",
       "      <th>3</th>\n",
       "      <td>3</td>\n",
       "      <td>00:29-00:36</td>\n",
       "      <td>NaN</td>\n",
       "      <td>NaN</td>\n",
       "      <td>NaN</td>\n",
       "      <td>NaN</td>\n",
       "    </tr>\n",
       "  </tbody>\n",
       "</table>\n",
       "</div>"
      ],
      "text/plain": [
       "   Unnamed: 0         FRENTE   RETROVISOR     IZQUIERDA      DERECHA  \\\n",
       "0           0  00:00 - 00:08  00:24-00:28  00:09- 00:13  00:17-00:21   \n",
       "1           1    00:14-00:16   0058-00:60   00:45-00:48  00:51-00:56   \n",
       "2           2    00:22-00:23          NaN           NaN          NaN   \n",
       "3           3    00:29-00:36          NaN           NaN          NaN   \n",
       "\n",
       "       PALANCA  \n",
       "0  00:37-00:43  \n",
       "1          NaN  \n",
       "2          NaN  \n",
       "3          NaN  "
      ]
     },
     "execution_count": 59,
     "metadata": {},
     "output_type": "execute_result"
    }
   ],
   "source": [
    "dfsCsv[0]"
   ]
  },
  {
   "cell_type": "code",
   "execution_count": 60,
   "metadata": {},
   "outputs": [
    {
     "data": {
      "text/html": [
       "<div>\n",
       "<style scoped>\n",
       "    .dataframe tbody tr th:only-of-type {\n",
       "        vertical-align: middle;\n",
       "    }\n",
       "\n",
       "    .dataframe tbody tr th {\n",
       "        vertical-align: top;\n",
       "    }\n",
       "\n",
       "    .dataframe thead th {\n",
       "        text-align: right;\n",
       "    }\n",
       "</style>\n",
       "<table border=\"1\" class=\"dataframe\">\n",
       "  <thead>\n",
       "    <tr style=\"text-align: right;\">\n",
       "      <th></th>\n",
       "      <th>FRENTE</th>\n",
       "      <th>IZQUIERDA</th>\n",
       "      <th>RETROVISOR</th>\n",
       "      <th>DERECHA</th>\n",
       "      <th>PALANCA</th>\n",
       "    </tr>\n",
       "  </thead>\n",
       "  <tbody>\n",
       "    <tr>\n",
       "      <th>0</th>\n",
       "      <td>00:00-00:12</td>\n",
       "      <td>00:13-00:24</td>\n",
       "      <td>00:25-00:35</td>\n",
       "      <td>00:37-00:47</td>\n",
       "      <td>00:48-01:00</td>\n",
       "    </tr>\n",
       "  </tbody>\n",
       "</table>\n",
       "</div>"
      ],
      "text/plain": [
       "        FRENTE    IZQUIERDA   RETROVISOR      DERECHA      PALANCA\n",
       "0  00:00-00:12  00:13-00:24  00:25-00:35  00:37-00:47  00:48-01:00"
      ]
     },
     "execution_count": 60,
     "metadata": {},
     "output_type": "execute_result"
    }
   ],
   "source": [
    "df = dfsCsv[-1]\n",
    "intervalos = {}\n",
    "\n",
    "# Iterar sobre las filas del DataFrame original\n",
    "for index, row in df.iterrows():\n",
    "    label = row['label']\n",
    "    intervalo = row['inicio'] + '-' + row['fin']\n",
    "    \n",
    "    # Verificar si ya hay intervalos para esta etiqueta\n",
    "    if label in intervalos:\n",
    "        intervalos[label].append(intervalo)\n",
    "    else:\n",
    "        intervalos[label] = [intervalo]\n",
    "\n",
    "# Crear un nuevo DataFrame a partir del diccionario de intervalos\n",
    "new_df = pd.DataFrame(intervalos)\n",
    "\n",
    "# Reordenar las columnas para que coincidan con el formato deseado\n",
    "column_order = ['frente', 'izquierda', 'retrovisor', 'derecha', 'palanca']\n",
    "\n",
    "# Convertir los nombres de las columnas a mayúsculas\n",
    "new_df.columns = column_order\n",
    "new_df.columns = new_df.columns.str.upper()\n",
    "\n",
    "dfsCsv[-1] = new_df"
   ]
  },
  {
   "cell_type": "code",
   "execution_count": null,
   "metadata": {},
   "outputs": [],
   "source": [
    " "
   ]
  },
  {
   "cell_type": "markdown",
   "metadata": {},
   "source": [
    "### Analisis exploratorio"
   ]
  },
  {
   "cell_type": "markdown",
   "metadata": {},
   "source": [
    "### Extracción de caracteristicas"
   ]
  },
  {
   "cell_type": "markdown",
   "metadata": {},
   "source": [
    "### Selección de caracteristicas"
   ]
  },
  {
   "cell_type": "markdown",
   "metadata": {},
   "source": [
    "### Entrenamiento de los modelos"
   ]
  },
  {
   "cell_type": "markdown",
   "metadata": {},
   "source": [
    "### Implementación del modelo en tiempo real. "
   ]
  }
 ],
 "metadata": {
  "kernelspec": {
   "display_name": "imagenes",
   "language": "python",
   "name": "python3"
  },
  "language_info": {
   "codemirror_mode": {
    "name": "ipython",
    "version": 3
   },
   "file_extension": ".py",
   "mimetype": "text/x-python",
   "name": "python",
   "nbconvert_exporter": "python",
   "pygments_lexer": "ipython3",
   "version": "3.11.7"
  }
 },
 "nbformat": 4,
 "nbformat_minor": 2
}
